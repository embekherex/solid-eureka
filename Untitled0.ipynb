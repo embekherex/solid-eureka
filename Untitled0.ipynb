{
  "nbformat": 4,
  "nbformat_minor": 0,
  "metadata": {
    "colab": {
      "name": "EMBEX_HEREX",
      "provenance": [],
      "authorship_tag": "ABX9TyPWGR9J/9InPLlyZZOT43Av",
      "include_colab_link": true
@@ -57,4 +57,4 @@
      "outputs": []
    }
  ]
}
